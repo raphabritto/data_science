{
 "cells": [
  {
   "cell_type": "markdown",
   "metadata": {},
   "source": [
    "# <font color='blue'>Data Science Academy - Machine Learning</font>\n",
    "\n",
    "# <font color='blue'>Capítulo 10 - Processamento de Linguagem Natural</font>"
   ]
  },
  {
   "cell_type": "markdown",
   "metadata": {},
   "source": [
    "****** Este Jupyter Notebook foi atualizado para a versão 3.6.1. da Linguagem Python em 05/07/2017 ******"
   ]
  },
  {
   "cell_type": "markdown",
   "metadata": {},
   "source": [
    "## Sequence Labeling (Reconhecimento de Padrões)\n",
    "\n",
    "Em Machine Learning, sequence labeling é um tipo de tarefa de reconhecimento de padrões que envolve a atribuição algorítmica de um rótulo categórico a cada membro de uma sequência de valores observados. Um exemplo comum de uma tarefa de rotulagem de sequência é parte do tagging de fala, que procura atribuir uma parte da fala a cada palavra em uma frase de entrada ou documento."
   ]
  },
  {
   "cell_type": "code",
   "execution_count": 1,
   "metadata": {},
   "outputs": [
    {
     "name": "stdout",
     "output_type": "stream",
     "text": [
      "Requirement already satisfied: python-crfsuite in /Users/dmpm/anaconda/lib/python3.6/site-packages\r\n"
     ]
    }
   ],
   "source": [
    "!pip install python-crfsuite"
   ]
  },
  {
   "cell_type": "code",
   "execution_count": 2,
   "metadata": {
    "collapsed": true
   },
   "outputs": [],
   "source": [
    "import pycrfsuite"
   ]
  },
  {
   "cell_type": "code",
   "execution_count": 3,
   "metadata": {
    "collapsed": true
   },
   "outputs": [],
   "source": [
    "from nltk.corpus import mac_morpho"
   ]
  },
  {
   "cell_type": "code",
   "execution_count": 4,
   "metadata": {},
   "outputs": [
    {
     "data": {
      "text/plain": [
       "[[('Jersei', 'N'),\n",
       "  ('atinge', 'V'),\n",
       "  ('média', 'N'),\n",
       "  ('de', 'PREP'),\n",
       "  ('Cr$', 'CUR'),\n",
       "  ('1,4', 'NUM'),\n",
       "  ('milhão', 'N'),\n",
       "  ('em', 'PREP|+'),\n",
       "  ('a', 'ART'),\n",
       "  ('venda', 'N'),\n",
       "  ('de', 'PREP|+'),\n",
       "  ('a', 'ART'),\n",
       "  ('Pinhal', 'NPROP'),\n",
       "  ('em', 'PREP'),\n",
       "  ('São', 'NPROP'),\n",
       "  ('Paulo', 'NPROP')],\n",
       " [('Programe', 'V'),\n",
       "  ('sua', 'PROADJ'),\n",
       "  ('viagem', 'N'),\n",
       "  ('a', 'PREP|+'),\n",
       "  ('a', 'ART'),\n",
       "  ('Exposição', 'NPROP'),\n",
       "  ('Nacional', 'NPROP'),\n",
       "  ('do', 'NPROP'),\n",
       "  ('Zebu', 'NPROP'),\n",
       "  (',', ','),\n",
       "  ('que', 'PRO-KS-REL'),\n",
       "  ('começa', 'V'),\n",
       "  ('dia', 'N'),\n",
       "  ('25', 'N|AP')],\n",
       " [('Safra', 'N'),\n",
       "  ('recorde', 'ADJ'),\n",
       "  ('e', 'KC'),\n",
       "  ('disponibilidade', 'N'),\n",
       "  ('de', 'PREP'),\n",
       "  ('crédito', 'N'),\n",
       "  ('ativam', 'V'),\n",
       "  ('vendas', 'N'),\n",
       "  ('de', 'PREP'),\n",
       "  ('máquinas', 'N'),\n",
       "  ('agrícolas', 'ADJ')],\n",
       " [('A', 'ART'),\n",
       "  ('degradação', 'N'),\n",
       "  ('de', 'PREP|+'),\n",
       "  ('as', 'ART'),\n",
       "  ('terras', 'N'),\n",
       "  ('por', 'PREP|+'),\n",
       "  ('o', 'ART'),\n",
       "  ('mau', 'ADJ'),\n",
       "  ('uso', 'N'),\n",
       "  ('de', 'PREP|+'),\n",
       "  ('os', 'ART'),\n",
       "  ('solos', 'N'),\n",
       "  ('avança', 'V'),\n",
       "  ('em', 'PREP|+'),\n",
       "  ('o', 'ART')],\n",
       " [('A', 'ART'),\n",
       "  ('desertificação', 'N'),\n",
       "  ('tornou', 'V'),\n",
       "  ('crítica', 'ADJ'),\n",
       "  ('a', 'ART'),\n",
       "  ('produtividade', 'N'),\n",
       "  ('de', 'PREP'),\n",
       "  ('52', 'NUM'),\n",
       "  ('mil', 'NUM'),\n",
       "  ('km²', 'N'),\n",
       "  ('em', 'PREP|+'),\n",
       "  ('a', 'ART'),\n",
       "  ('região', 'N')],\n",
       " [('Em', 'PREP|+'),\n",
       "  ('o', 'ART'),\n",
       "  ('dia', 'N'),\n",
       "  ('15', 'N|AP'),\n",
       "  (',', ','),\n",
       "  ('Dia', 'NPROP'),\n",
       "  ('da', 'NPROP'),\n",
       "  ('Conservação', 'NPROP'),\n",
       "  ('do', 'NPROP'),\n",
       "  ('Solo', 'NPROP'),\n",
       "  (',', ','),\n",
       "  ('o', 'ART'),\n",
       "  ('único', 'ADJ'),\n",
       "  ('fato', 'N'),\n",
       "  ('a', 'PREP'),\n",
       "  ('festejar', 'V'),\n",
       "  ('pode', 'VAUX'),\n",
       "  ('ser', 'V'),\n",
       "  ('a', 'ART'),\n",
       "  ('Convenção', 'NPROP'),\n",
       "  ('Internacional', 'NPROP'),\n",
       "  ('sobre', 'NPROP'),\n",
       "  ('Desertificação', 'NPROP')],\n",
       " [('A', 'ART'),\n",
       "  ('produção', 'N'),\n",
       "  ('brasileira', 'ADJ'),\n",
       "  ('de', 'PREP'),\n",
       "  ('pintos', 'N'),\n",
       "  ('de', 'PREP'),\n",
       "  ('corte', 'N'),\n",
       "  ('totalizou', 'V'),\n",
       "  (',', ','),\n",
       "  ('em', 'PREP'),\n",
       "  ('fevereiro', 'N'),\n",
       "  ('último', 'ADJ'),\n",
       "  (',', ','),\n",
       "  ('166', 'NUM'),\n",
       "  ('milhões', 'N'),\n",
       "  (',', ','),\n",
       "  ('volume', 'N'),\n",
       "  ('6,79', 'NUM'),\n",
       "  ('%', 'N'),\n",
       "  ('superior', 'ADJ'),\n",
       "  ('a', 'PREP|+'),\n",
       "  ('o', 'ART'),\n",
       "  ('registrado', 'N'),\n",
       "  ('em', 'PREP'),\n",
       "  ('fevereiro', 'N'),\n",
       "  ('de', 'PREP'),\n",
       "  ('93', 'N'),\n",
       "  (',', ','),\n",
       "  ('segundo', 'PREP'),\n",
       "  ('dados', 'N'),\n",
       "  ('de', 'PREP|+'),\n",
       "  ('a', 'ART'),\n",
       "  ('Associação', 'NPROP'),\n",
       "  ('Brasileira', 'NPROP'),\n",
       "  ('dos', 'NPROP'),\n",
       "  ('Produtores', 'NPROP'),\n",
       "  ('de', 'NPROP'),\n",
       "  ('Pinto', 'NPROP'),\n",
       "  ('de', 'NPROP'),\n",
       "  ('Corte', 'NPROP'),\n",
       "  ('(', '('),\n",
       "  ('Apinco', 'NPROP'),\n",
       "  (')', ')')],\n",
       " [('A', 'ART'),\n",
       "  ('Apinco', 'NPROP'),\n",
       "  ('destaca', 'V'),\n",
       "  ('em', 'PREP'),\n",
       "  ('seu', 'PROADJ'),\n",
       "  ('boletim', 'N'),\n",
       "  ('mensal', 'ADJ'),\n",
       "  ('que', 'KS'),\n",
       "  ('o', 'ART'),\n",
       "  ('setor', 'N'),\n",
       "  ('avícola', 'ADJ'),\n",
       "  ('está', 'V'),\n",
       "  ('otimista', 'ADJ'),\n",
       "  ('com', 'PREP'),\n",
       "  ('o', 'ART'),\n",
       "  ('atual', 'ADJ'),\n",
       "  ('programa', 'N'),\n",
       "  ('de', 'PREP'),\n",
       "  ('estabilização', 'N'),\n",
       "  ('econômica', 'ADJ')],\n",
       " [('\"', '\"'),\n",
       "  ('A', 'ART'),\n",
       "  ('melhoria', 'N'),\n",
       "  ('de', 'PREP|+'),\n",
       "  ('o', 'ART'),\n",
       "  ('padrão', 'N'),\n",
       "  ('aquisitivo', 'ADJ'),\n",
       "  ('resulta', 'V'),\n",
       "  ('em', 'PREP'),\n",
       "  ('maior', 'ADJ'),\n",
       "  ('demanda', 'N'),\n",
       "  ('de', 'PREP'),\n",
       "  ('carne', 'N'),\n",
       "  ('de', 'PREP'),\n",
       "  ('frango', 'N'),\n",
       "  ('\"', '\"')],\n",
       " [('O', 'ART'),\n",
       "  ('secretário', 'N'),\n",
       "  ('de', 'PREP|+'),\n",
       "  ('a', 'ART'),\n",
       "  ('agricultura', 'N'),\n",
       "  ('paulista', 'ADJ'),\n",
       "  (',', ','),\n",
       "  ('Roberto', 'NPROP'),\n",
       "  ('Rodrigues', 'NPROP'),\n",
       "  (',', ','),\n",
       "  ('aprovou', 'V'),\n",
       "  ('o', 'ART'),\n",
       "  ('pacote', 'N'),\n",
       "  ('de', 'PREP|+'),\n",
       "  ('o', 'ART'),\n",
       "  ('trigo', 'N'),\n",
       "  (',', ','),\n",
       "  ('anunciado', 'PCP'),\n",
       "  ('em', 'PREP|+'),\n",
       "  ('o', 'ART'),\n",
       "  ('final', 'N'),\n",
       "  ('de', 'PREP'),\n",
       "  ('março', 'N'),\n",
       "  ('por', 'PREP|+'),\n",
       "  ('o', 'ART'),\n",
       "  ('governo', 'N'),\n",
       "  ('federal', 'ADJ')]]"
      ]
     },
     "execution_count": 4,
     "metadata": {},
     "output_type": "execute_result"
    }
   ],
   "source": [
    "list(mac_morpho.tagged_sents()[:10])"
   ]
  },
  {
   "cell_type": "code",
   "execution_count": 5,
   "metadata": {
    "collapsed": true
   },
   "outputs": [],
   "source": [
    "# Obtendo 2.000 exemplos para facilitar a demonstração\n",
    "tagged_sents = mac_morpho.tagged_sents()[:2000]"
   ]
  },
  {
   "cell_type": "code",
   "execution_count": 6,
   "metadata": {
    "collapsed": true
   },
   "outputs": [],
   "source": [
    "# Função para retronar as melhores features\n",
    "def word2features(sent, i):\n",
    "        word = sent[i]\n",
    "\n",
    "        features = [\n",
    "            'bias',\n",
    "            'word.lower=' + word.lower(),\n",
    "            'word[-3:]=' + word[-3:],\n",
    "            'word[-2:]=' + word[-2:],\n",
    "            'word.isupper=%s' % word.isupper(),\n",
    "            'word.istitle=%s' % word.istitle(),\n",
    "            'word.isdigit=%s' % word.isdigit(),\n",
    "        ]\n",
    "        if i > 0:\n",
    "            word1 = sent[i - 1]\n",
    "            features.extend([\n",
    "                '-1:word.lower=' + word1.lower(),\n",
    "                '-1:word.istitle=%s' % word1.istitle(),\n",
    "                '-1:word.isupper=%s' % word1.isupper(),\n",
    "            ])\n",
    "        else:\n",
    "            features.append('BOS')\n",
    "\n",
    "        if i < len(sent) - 1:\n",
    "            word1 = sent[i + 1]\n",
    "            features.extend([\n",
    "                '+1:word.lower=' + word1.lower(),\n",
    "                '+1:word.istitle=%s' % word1.istitle(),\n",
    "                '+1:word.isupper=%s' % word1.isupper(),\n",
    "            ])\n",
    "        else:\n",
    "            features.append('EOS')\n",
    "\n",
    "        return features\n",
    "    \n",
    "def sent2features(sent):\n",
    "   return [word2features(sent, i) for i in range(len(sent))]\n",
    "\n",
    "def sent2labels(sent):\n",
    "   return [label for token, label in sent]\n",
    "\n",
    "def sent2tokens(sent):\n",
    "   return [token for token, label in sent]"
   ]
  },
  {
   "cell_type": "code",
   "execution_count": 7,
   "metadata": {
    "collapsed": true
   },
   "outputs": [],
   "source": [
    "# Gerando dados de treino\n",
    "sentences = list()\n",
    "for sent in tagged_sents:\n",
    "    sentences.append([token for token, tag in sent])\n",
    "\n",
    "X_train = [sent2features(s) for s in sentences]\n",
    "y_train = [sent2labels(s) for s in tagged_sents]"
   ]
  },
  {
   "cell_type": "code",
   "execution_count": 8,
   "metadata": {
    "collapsed": true
   },
   "outputs": [],
   "source": [
    "# Modelo\n",
    "trainer = pycrfsuite.Trainer(verbose = False)\n",
    "trainer.select(algorithm = 'lbfgs', type = 'crf1d')"
   ]
  },
  {
   "cell_type": "code",
   "execution_count": 9,
   "metadata": {
    "collapsed": true
   },
   "outputs": [],
   "source": [
    "for xseq, yseq in zip(X_train, y_train):\n",
    "    trainer.append(xseq, yseq)\n",
    "trainer.train('pos.model')"
   ]
  },
  {
   "cell_type": "code",
   "execution_count": 10,
   "metadata": {},
   "outputs": [
    {
     "data": {
      "text/plain": [
       "<contextlib.closing at 0x11b14b748>"
      ]
     },
     "execution_count": 10,
     "metadata": {},
     "output_type": "execute_result"
    }
   ],
   "source": [
    "tagger = pycrfsuite.Tagger()\n",
    "tagger.open('pos.model')"
   ]
  },
  {
   "cell_type": "code",
   "execution_count": 11,
   "metadata": {},
   "outputs": [
    {
     "name": "stdout",
     "output_type": "stream",
     "text": [
      "[('O', 'ART'), ('menino', 'N'), ('jogou', 'V'), ('a', 'ART'), ('bola', 'N'), ('azul', 'ADJ'), ('no', 'N'), ('gol', 'ADJ'), ('.', 'N')]\n"
     ]
    }
   ],
   "source": [
    "sent = 'O menino jogou a bola azul no gol .'.split()\n",
    "X_test = sent2features(sent)\n",
    "guess = tagger.tag(X_test)\n",
    "print (list(zip(sent, guess)))"
   ]
  },
  {
   "cell_type": "markdown",
   "metadata": {
    "collapsed": true
   },
   "source": [
    "### Fim"
   ]
  },
  {
   "cell_type": "markdown",
   "metadata": {},
   "source": [
    "### Obrigado - Data Science Academy - <a href=http://facebook.com/dsacademy>facebook.com/dsacademybr</a>"
   ]
  }
 ],
 "metadata": {
  "anaconda-cloud": {},
  "kernelspec": {
   "display_name": "Python 3",
   "language": "python",
   "name": "python3"
  },
  "language_info": {
   "codemirror_mode": {
    "name": "ipython",
    "version": 3
   },
   "file_extension": ".py",
   "mimetype": "text/x-python",
   "name": "python",
   "nbconvert_exporter": "python",
   "pygments_lexer": "ipython3",
   "version": "3.6.1"
  }
 },
 "nbformat": 4,
 "nbformat_minor": 1
}
